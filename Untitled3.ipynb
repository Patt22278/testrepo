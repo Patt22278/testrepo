{
  "metadata": {
    "language_info": {
      "codemirror_mode": {
        "name": "python",
        "version": 3
      },
      "file_extension": ".py",
      "mimetype": "text/x-python",
      "name": "python",
      "nbconvert_exporter": "python",
      "pygments_lexer": "ipython3",
      "version": "3.8"
    },
    "kernelspec": {
      "name": "python",
      "display_name": "Python (Pyodide)",
      "language": "python"
    }
  },
  "nbformat_minor": 4,
  "nbformat": 4,
  "cells": [
    {
      "cell_type": "markdown",
      "source": "# My Jupyter Notebook on IBM Watson Studio",
      "metadata": {}
    },
    {
      "cell_type": "markdown",
      "source": "# Patricia Martínez\nStudent",
      "metadata": {}
    },
    {
      "cell_type": "markdown",
      "source": "_I am interested in data science because I like data processing and how society can benefit from it in the future_",
      "metadata": {}
    },
    {
      "cell_type": "markdown",
      "source": "### A sum of two numbers",
      "metadata": {}
    },
    {
      "cell_type": "code",
      "source": "one = 1\nseven = 7\nprint(one + seven)",
      "metadata": {},
      "execution_count": null,
      "outputs": []
    },
    {
      "cell_type": "markdown",
      "source": "Hello\n***\nBye",
      "metadata": {}
    },
    {
      "cell_type": "markdown",
      "source": "|Bad|Good|\n|------|------|\n|Free|Expensive|\n",
      "metadata": {}
    },
    {
      "cell_type": "markdown",
      "source": "<a href=\"https://dataplatform.cloud.ibm.com/gallery\">IBM Cloud Gallery</a> ",
      "metadata": {}
    }
  ]
}